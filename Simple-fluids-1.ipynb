{
 "cells": [
  {
   "cell_type": "markdown",
   "id": "f7da8a81",
   "metadata": {},
   "source": [
    "# Simple Lennard-Jones Fluid"
   ]
  },
  {
   "cell_type": "markdown",
   "id": "e29b2288",
   "metadata": {},
   "source": [
    "This notebook will walk you through starting a first simulation using the HOOMD-blue simulation software. This software has a python interface."
   ]
  },
  {
   "cell_type": "code",
   "execution_count": null,
   "id": "ccca322b",
   "metadata": {},
   "outputs": [],
   "source": [
    "#import the software we will need\n",
    "import matplotlib.pyplot as plt\n",
    "import numpy as np\n",
    "import freud\n",
    "import hoomd\n",
    "import gsd.hoomd"
   ]
  },
  {
   "cell_type": "markdown",
   "id": "c4b14bf4",
   "metadata": {},
   "source": [
    "The first part of creating a simulation in HOOMD is defining the environment in which the simulation will be running. This includes the choice between running on a CPU or GPU. GPU will be faster for large systems, but if you are running a small system locally then CPU will be necessary.\n",
    "\n",
    "Second, we will give our simulation a seed. This is a number that will be used to randomize calculations later, ensuring that any two simulations will be different even if they have the same starting point."
   ]
  },
  {
   "cell_type": "code",
   "execution_count": null,
   "id": "9094554b",
   "metadata": {},
   "outputs": [],
   "source": [
    "#choose here which device to run on\n",
    "# device = hoomd.device.CPU()\n",
    "device = hoomd.device.GPU()\n",
    "\n",
    "seed = np.random.randint(1,1e4)\n",
    "print(seed)\n",
    "\n",
    "simulation = hoomd.Simulation(device = device, seed = seed)"
   ]
  },
  {
   "cell_type": "markdown",
   "id": "af9a5b61",
   "metadata": {},
   "source": [
    "Now that we have the simulation object, it will store all of the information about setup, including the particles, their configuration, and the thermostats and integrators that we discussed this morning."
   ]
  },
  {
   "cell_type": "markdown",
   "id": "39c8479b",
   "metadata": {},
   "source": [
    "# Initialization"
   ]
  },
  {
   "cell_type": "markdown",
   "id": "4e90c8f7",
   "metadata": {},
   "source": [
    "The first step of starting a simulation is initialization: identifying all the particles, where they are in space, and the boundaries of our box.\n",
    "\n",
    "This can get very complicated, because a good initial condition is extremely important to a statistically valid simulation! However, here we can use a fairly easy method. We will define particles in a simple cubic grid, at low pressure and high temperature, and let their motion create a random start. Then, we can slowly cool and compress to the conditions which we want to study."
   ]
  },
  {
   "cell_type": "markdown",
   "id": "7a9a7513",
   "metadata": {},
   "source": [
    "## Experimenting with dimensionless units\n",
    "Here we'll set the energy scale of the simulation by choosing KT and $\\epsilon$. We'll also experiment with dimensionless units. With your neigbors, choose the same value T* = kT/$\\epsilon$ but with different values of kT and $\\epsilon$ . T* = 1.0 is a ratio to start with."
   ]
  },
  {
   "cell_type": "code",
   "execution_count": null,
   "id": "34692eae",
   "metadata": {},
   "outputs": [],
   "source": [
    "#Here we'll also set the temperature of the simulation\n",
    "kT = 1.0\n",
    "#Change these to change the interparticle forces\n",
    "epsilon = 1.0\n",
    "sigma = 1.0\n",
    "\n",
    "#and finally we'll set the density of the system\n",
    "final_density = 1.0"
   ]
  },
  {
   "cell_type": "markdown",
   "id": "8fdd365b",
   "metadata": {},
   "source": [
    "Now set initial parameters like the dilute system density and the number of particles."
   ]
  },
  {
   "cell_type": "code",
   "execution_count": null,
   "id": "01351a07",
   "metadata": {},
   "outputs": [],
   "source": [
    "#number density is (number of particles)/(volume)\n",
    "density = 0.0.5\n",
    "\n",
    "#a is the spacing between particles\n",
    "a = 1/(density**(1/3.0))\n",
    "\n",
    "#We want a number of particles N in our system. \n",
    "#Since we will be replicating the system in 3 dimensions, the number of unit cells we need is N^(1/3)\n",
    "\n",
    "num_replicas = 14\n",
    "N_particles = num_replicas**3"
   ]
  },
  {
   "cell_type": "code",
   "execution_count": null,
   "id": "85e05f8e",
   "metadata": {
    "scrolled": false
   },
   "outputs": [],
   "source": [
    "grid_particles = freud.data.UnitCell([a,a,a,0,0,0],[[0,0,0]]).generate_system(num_replicas)\n",
    "box_length = grid_particles[0].Lx"
   ]
  },
  {
   "cell_type": "markdown",
   "id": "a26fa3c4",
   "metadata": {},
   "source": [
    "GSD is a file format which is compact and useful for storing simulation data. A GSD file is called a trajectory, and consists of a list of frames. Each frame is one snapshot of a simulation, typically moving forward in time. We will save a simulation frame as our initial file."
   ]
  },
  {
   "cell_type": "code",
   "execution_count": null,
   "id": "f1184bc9",
   "metadata": {},
   "outputs": [],
   "source": [
    "frame = gsd.hoomd.Frame()\n",
    "frame.particles.N = N_particles\n",
    "\n",
    "\n",
    "frame.particles.position = grid_particles[1]\n",
    "frame.configuration.box = [box_length,box_length,box_length,0,0,0]\n",
    "\n",
    "#Types of particles define different interactions. In an atomistic simulation these might be C, O, and H.\n",
    "#in a coarse-grained simulation we can give them a simple name like A\n",
    "frame.particles.typeid = [0]*N_particles\n",
    "frame.particles.types = ['A']\n",
    "\n",
    "#Finally, save our initial state:\n",
    "with gsd.hoomd.open(name='initial_state.gsd', mode='w') as f:\n",
    "    f.append(frame)"
   ]
  },
  {
   "cell_type": "code",
   "execution_count": null,
   "id": "296289e4",
   "metadata": {},
   "outputs": [],
   "source": [
    "simulation.create_state_from_gsd(filename='initial_state.gsd')"
   ]
  },
  {
   "cell_type": "markdown",
   "id": "70d05413",
   "metadata": {},
   "source": [
    "# Integrators, Thermostats, & Forces"
   ]
  },
  {
   "cell_type": "markdown",
   "id": "ae8e2aa0",
   "metadata": {},
   "source": [
    "Now we will define how physics works in the simulation. The first part of this is an integrator, which takes a timestep. This code derives acceleration from forces and integrates forward in time to update the particle positions.\n",
    "\n",
    "*Questions to play around with on your own time:*\n",
    "*What happens if you drastically increase the timestep? What about if you decrease it?*"
   ]
  },
  {
   "cell_type": "code",
   "execution_count": null,
   "id": "ae3161b4",
   "metadata": {},
   "outputs": [],
   "source": [
    "integrator = hoomd.md.Integrator(dt = 0.005)"
   ]
  },
  {
   "cell_type": "markdown",
   "id": "bd3d76b8",
   "metadata": {},
   "source": [
    "This morning, you learned how to implement the Nose-Hoover thermostat. This thermostat is in HOOMD as MTTK, and we can use it here.\n",
    "\n",
    "*There are several other thermostats we could have chosen in HOOMD. Many of them add assumed randomness to our system, like Brownian motion. Play around with these on your own time and see how it effects results.*"
   ]
  },
  {
   "cell_type": "code",
   "execution_count": null,
   "id": "44feb1e7",
   "metadata": {},
   "outputs": [],
   "source": [
    "thermostat = hoomd.md.methods.thermostats.MTTK(kT=kT,tau = 1.0)"
   ]
  },
  {
   "cell_type": "markdown",
   "id": "f9b19a18",
   "metadata": {},
   "source": [
    "Now, we choose the *ensemble*. Typically, this will be an ensemble of constant particle number, volume, and temperature (NVT), but frequently you may choose to set pressure (NPT) or even energy (NVE)."
   ]
  },
  {
   "cell_type": "code",
   "execution_count": null,
   "id": "ecd23143",
   "metadata": {},
   "outputs": [],
   "source": [
    "nvt = hoomd.md.methods.ConstantVolume(filter = hoomd.filter.All(),thermostat=thermostat)\n",
    "integrator.methods.append(nvt)"
   ]
  },
  {
   "cell_type": "markdown",
   "id": "c8512d04",
   "metadata": {},
   "source": [
    "Finally, set the forces. Here is where we use the Lennard-Jones model to describe the interparticle forces."
   ]
  },
  {
   "cell_type": "markdown",
   "id": "9c08b30a",
   "metadata": {},
   "source": [
    " $$V_{\\mathrm{LJ}}(r) = 4 \\varepsilon \\left[ \\left(\\frac{\\sigma}{r}\\right)^{12} - \\left(\\frac{\\sigma}{r}\\right)^6 \\right]$$"
   ]
  },
  {
   "cell_type": "code",
   "execution_count": null,
   "id": "30798f91",
   "metadata": {
    "scrolled": false
   },
   "outputs": [],
   "source": [
    "#visualize the LJ potential\n",
    "rs = np.linspace(0.5,2.7,1000)\n",
    "def evaluate_lj(e, s, r):\n",
    "    f = 4*e*((s/r)**12-(s/r)**6)\n",
    "    return f\n",
    "\n",
    "potential = [evaluate_lj(epsilon, sigma, r) for r in rs]\n",
    "\n",
    "plt.plot(rs, potential);\n",
    "plt.ylim(-1.5,1.5);\n",
    "plt.title('The Lennard-Jones Potential');\n",
    "plt.grid('True')\n",
    "plt.xlabel('Interparticle distance');\n",
    "plt.ylabel('U(r)')"
   ]
  },
  {
   "cell_type": "code",
   "execution_count": null,
   "id": "89c870c1",
   "metadata": {},
   "outputs": [],
   "source": [
    "#hoomd uses a Neighbor List (nlist) to speed up computation\n",
    "#by only checking forces for particles that are near each other\n",
    "cell = hoomd.md.nlist.Cell(buffer=0.4)\n",
    "\n",
    "#Define the force for different particles\n",
    "lj = hoomd.md.pair.LJ(nlist=cell)\n",
    "\n",
    "lj.params[('A', 'A')] = {\"epsilon\":epsilon, \"sigma\":sigma}\n",
    "\n",
    "lj.r_cut[('A', 'A')] = 2.7*sigma"
   ]
  },
  {
   "cell_type": "markdown",
   "id": "8782941c",
   "metadata": {},
   "source": [
    "r_cut is an important parameter: for any particles farther than r_cut away from each other, the simulation assumes the LJ potential is effectively 0. Making this distance too long slows down computation, but making it too short will truncate the potential unphysically. It's always worth plotting to check if your r_cut is reasonable.\n",
    "\n",
    "Finally, add everything to the simulation."
   ]
  },
  {
   "cell_type": "code",
   "execution_count": null,
   "id": "f746c1f7",
   "metadata": {},
   "outputs": [],
   "source": [
    "integrator.forces.append(lj)\n",
    "simulation.operations.integrator = integrator"
   ]
  },
  {
   "cell_type": "code",
   "execution_count": null,
   "id": "bfff1b56",
   "metadata": {},
   "outputs": [],
   "source": [
    "#This will ensure that our particles have a realistic velocity when the simulation begins\n",
    "simulation.state.thermalize_particle_momenta(filter=hoomd.filter.All(), kT=kT)\n",
    "\n",
    "thermodynamic_properties = hoomd.md.compute.ThermodynamicQuantities(\n",
    "    filter=hoomd.filter.All()\n",
    ")\n",
    "\n",
    "simulation.operations.computes.append(thermodynamic_properties)"
   ]
  },
  {
   "cell_type": "markdown",
   "id": "cd6d30c5",
   "metadata": {},
   "source": [
    "# Compress to the desired density"
   ]
  },
  {
   "cell_type": "markdown",
   "id": "635a1ba5",
   "metadata": {},
   "source": [
    "HOOMD handles changing parameters like temperature and density through a Ramp. A Ramp will continuously vary some value over a set number of timesteps, t_ramp.\n",
    "\n",
    "Here, we will pass the ramp to a \"box resize updater\" to change the box size slowly."
   ]
  },
  {
   "cell_type": "code",
   "execution_count": null,
   "id": "6f5f570f",
   "metadata": {},
   "outputs": [],
   "source": [
    "compression_steps = 1e5"
   ]
  },
  {
   "cell_type": "code",
   "execution_count": null,
   "id": "06088dba",
   "metadata": {},
   "outputs": [],
   "source": [
    "ramp = hoomd.variant.Ramp(A=0, B=1, t_start=simulation.timestep, t_ramp=compression_steps)\n",
    "initial_box = simulation.state.box\n",
    "final_box = hoomd.Box.from_box(initial_box)\n",
    "\n",
    "final_box.volume = simulation.state.N_particles / final_density\n",
    "\n",
    "box_resize_trigger = hoomd.trigger.Periodic(10)\n",
    "\n",
    "box_resize = hoomd.update.BoxResize(trigger=box_resize_trigger,\n",
    "    box1=initial_box, box2=final_box, variant=ramp)"
   ]
  },
  {
   "cell_type": "code",
   "execution_count": null,
   "id": "7304ca6f",
   "metadata": {},
   "outputs": [],
   "source": [
    "simulation.operations.updaters.append(box_resize)"
   ]
  },
  {
   "cell_type": "markdown",
   "id": "76440b7b",
   "metadata": {},
   "source": [
    "Finally, we can run the simulation to compress the box."
   ]
  },
  {
   "cell_type": "code",
   "execution_count": null,
   "id": "a93eccee",
   "metadata": {},
   "outputs": [],
   "source": [
    "simulation.run(compression_steps)"
   ]
  },
  {
   "cell_type": "markdown",
   "id": "e6a30819",
   "metadata": {},
   "source": [
    "Save the final random state as our \"initial condition.\""
   ]
  },
  {
   "cell_type": "code",
   "execution_count": null,
   "id": "7ce4ab43",
   "metadata": {},
   "outputs": [],
   "source": [
    "hoomd.write.GSD.write(state=simulation.state, filename='random_state.gsd', mode='wb')"
   ]
  },
  {
   "cell_type": "markdown",
   "id": "4bfccff0",
   "metadata": {},
   "source": [
    "Now we will set up to run data collection, sampling the behavior of a Lennard-Jones fluid at the given temperature and density. We will do this for a long time to get a good time-average."
   ]
  },
  {
   "cell_type": "markdown",
   "id": "821ea1c5",
   "metadata": {},
   "source": [
    "# Record data"
   ]
  },
  {
   "cell_type": "markdown",
   "id": "674fa5ad",
   "metadata": {},
   "source": [
    "This code will log two files:\n",
    "\n",
    "1. An hdf5 file with number quanities, like how much time has passed, the pressure, and the recorded eenrgy\n",
    "\n",
    "2. A GSD file which is a \"movie\" of the particle trajectories.\n",
    "\n",
    "Importantly, these files are **will not overwrite themselves!** If you run this notebook multiple times, you will need to change the file names to reflect that, or delete old files. Make sure to choose a naming scheme and update file names if you want to save them."
   ]
  },
  {
   "cell_type": "code",
   "execution_count": null,
   "id": "ff577350",
   "metadata": {},
   "outputs": [],
   "source": [
    "logger = hoomd.logging.Logger(categories=['scalar', 'sequence'])\n",
    "logger.add(simulation)\n",
    "logger.add(thermodynamic_properties)\n",
    "\n",
    "hdf5_writer = hoomd.write.HDF5Log(\n",
    "    trigger=hoomd.trigger.Periodic(int(1e4)), filename='log.h5', mode='x', logger=logger\n",
    ")\n",
    "\n",
    "simulation.operations.writers.append(hdf5_writer)\n",
    "\n",
    "gsd_writer = hoomd.write.GSD(\n",
    "    filename='trajectory.gsd',\n",
    "    trigger=hoomd.trigger.Periodic(int(1e4)),\n",
    "    mode='xb',\n",
    "    filter=hoomd.filter.All(),\n",
    ")\n",
    "\n",
    "simulation.operations.writers.append(gsd_writer)"
   ]
  },
  {
   "cell_type": "markdown",
   "id": "49035266",
   "metadata": {},
   "source": [
    "# Run the Simulation\n",
    "To get good statistics, we'll run a very long simulation."
   ]
  },
  {
   "cell_type": "code",
   "execution_count": null,
   "id": "adf45407",
   "metadata": {},
   "outputs": [],
   "source": [
    "simulation.run(1e6)"
   ]
  },
  {
   "cell_type": "markdown",
   "id": "66aa786f",
   "metadata": {},
   "source": [
    "Finally, do some bookkeeping to end the data recording. This isn't necessary in a typical batch script, in which ending the script will automatically flush all the data."
   ]
  },
  {
   "cell_type": "code",
   "execution_count": null,
   "id": "e724eddb",
   "metadata": {},
   "outputs": [],
   "source": [
    "simulation.operations.writers.remove(hdf5_writer)\n",
    "gsd_writer.flush()\n",
    "simulation.operations.writers.remove(gsd_writer)"
   ]
  },
  {
   "cell_type": "markdown",
   "id": "48037dca",
   "metadata": {
    "scrolled": true
   },
   "source": [
    "Our next step will be basic analysis."
   ]
  },
  {
   "cell_type": "markdown",
   "id": "84013969",
   "metadata": {},
   "source": [
    "# Visualizing & Comparing Units"
   ]
  },
  {
   "cell_type": "markdown",
   "id": "b123ba05",
   "metadata": {},
   "source": [
    "Follow the instructions to download your trajectory.gsd file from Bridges and visualize it with Ovito. Compare with neighbors who have the same T* but different kT and $\\epsilon$. What do you see?"
   ]
  },
  {
   "cell_type": "code",
   "execution_count": null,
   "id": "da290312",
   "metadata": {},
   "outputs": [],
   "source": []
  }
 ],
 "metadata": {
  "kernelspec": {
   "display_name": "Python 3 (ipykernel)",
   "language": "python",
   "name": "python3"
  },
  "language_info": {
   "codemirror_mode": {
    "name": "ipython",
    "version": 3
   },
   "file_extension": ".py",
   "mimetype": "text/x-python",
   "name": "python",
   "nbconvert_exporter": "python",
   "pygments_lexer": "ipython3",
   "version": "3.12.3"
  }
 },
 "nbformat": 4,
 "nbformat_minor": 5
}
