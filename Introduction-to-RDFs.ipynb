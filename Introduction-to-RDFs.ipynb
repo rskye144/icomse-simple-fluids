{
 "cells": [
  {
   "cell_type": "code",
   "execution_count": null,
   "id": "a7c61047",
   "metadata": {},
   "outputs": [],
   "source": [
    "import matplotlib.pyplot as plt\n",
    "import numpy as np\n",
    "import freud\n",
    "import gsd.hoomd"
   ]
  },
  {
   "cell_type": "markdown",
   "id": "1322f4ae",
   "metadata": {},
   "source": [
    "# What is a Radial Distribution Function?"
   ]
  },
  {
   "cell_type": "markdown",
   "id": "187b59ff",
   "metadata": {},
   "source": [
    "One of the main tools of simulations is the Radial Distribution Function, or RDF. In physical experiments, it's often difficult to obtain an RDF, so we use reciprocal space techniques like XRD or do laborious microscopy. In simulations we know the exact position of every particle, and so building an RDF is relatively easy.\n",
    "\n",
    "Here we will walk through 3 exercises.\n",
    "\n",
    "1. Calculating a small RDF by hand\n",
    "2. Using a histogram to calculate a larger RDF\n",
    "3. Using the tool Freud to examine your LJ simulations and compare how changing temperature changes RDF"
   ]
  },
  {
   "cell_type": "markdown",
   "id": "96128278",
   "metadata": {},
   "source": [
    "$$g(r) = V \\frac{N_{\\text{reference particles}}}{N_{\\text{particles}}} \\langle\\delta(r)\\rangle$$\n"
   ]
  },
  {
   "cell_type": "markdown",
   "id": "9f9b7101",
   "metadata": {},
   "source": [
    "The Radial Distribution Function is usually denoted g(r). It calculates the average density $\\delta$ of particles at a distance *r* away from an origin particle, normalized by the volume. If the system is totally homogenous and disordered, g(r) = 1. Typically, this function will be averaged over every particle in a system, and over time. From the RDF, we can extract the distance between particles and understand how well ordered the system is.\n",
    "\n",
    "The following code will plot an ideal square 2D crystal with some amount of noise, or disorder, in the position of the particles. 0 noise indicates a perfect crystal.\n",
    "\n",
    "Change the noise level and observe how the RDF changes. While the physics are very different, larger noise is qualitatively similar to melting the crystal."
   ]
  },
  {
   "cell_type": "code",
   "execution_count": null,
   "id": "91ab80f5",
   "metadata": {},
   "outputs": [],
   "source": [
    "#noise 0.0-0.2 is a good range to explore.\n",
    "noise = 0.0"
   ]
  },
  {
   "cell_type": "code",
   "execution_count": null,
   "id": "fdfce1cb",
   "metadata": {},
   "outputs": [],
   "source": [
    "crystal_with_disorder = freud.data.UnitCell([1,1,1,0,0,0],[[0,0,0]]).generate_system(\n",
    "    num_replicas = 20, sigma_noise = noise)"
   ]
  },
  {
   "cell_type": "code",
   "execution_count": null,
   "id": "2a40c0de",
   "metadata": {
    "scrolled": true
   },
   "outputs": [],
   "source": [
    "rdf = freud.density.RDF(bins = 100, r_max = 3.0)\n",
    "rdf.compute(crystal_with_disorder,neighbors={\"r_max\":3.0,\"exclude_ii\":True})\n",
    "rdf.plot()"
   ]
  },
  {
   "cell_type": "markdown",
   "id": "dae3d81e",
   "metadata": {},
   "source": [
    "What does the RDF look like in a perfectly ordered system? What happens to the RDF as disorder increases?"
   ]
  },
  {
   "cell_type": "markdown",
   "id": "f18812b3",
   "metadata": {},
   "source": [
    "# Manual RDF"
   ]
  },
  {
   "cell_type": "markdown",
   "id": "4c2624fb",
   "metadata": {},
   "source": [
    "Now we are going to do a quick, rough calculation of the RDF for one particle to get an idea of how the algorithm works. This code will generate a small 2D system of particles."
   ]
  },
  {
   "cell_type": "code",
   "execution_count": null,
   "id": "d1a92fd0",
   "metadata": {},
   "outputs": [],
   "source": [
    "(box, positions) = freud.data.UnitCell([1,1,1,0,0,0],[[0,0,0]]).generate_system(\n",
    "    num_replicas = [10,10,1], sigma_noise = 0.1)"
   ]
  },
  {
   "cell_type": "code",
   "execution_count": null,
   "id": "e2712846",
   "metadata": {},
   "outputs": [],
   "source": [
    "center = positions[0]"
   ]
  },
  {
   "cell_type": "code",
   "execution_count": null,
   "id": "936ab023",
   "metadata": {},
   "outputs": [],
   "source": [
    "fig = plt.figure(figsize=(10,10))\n",
    "markersize = 150\n",
    "\n",
    "plt.scatter(positions[:,0],positions[:,1],s = markersize, c = 'grey',edgecolor = 'k')\n",
    "plt.scatter(center[0],center[1], s = markersize, c = 'red',edgecolor = 'red')\n",
    "\n",
    "for r in range(1,5):\n",
    "    circle = plt.Circle((0, 0), r, facecolor = [0,0,0,0], edgecolor = 'k', linewidth = 2)\n",
    "    plt.gca().add_patch(circle)\n",
    "    \n",
    "plt.xlim(-5,5);\n",
    "plt.ylim(-5,5);\n"
   ]
  },
  {
   "cell_type": "markdown",
   "id": "41ac55c4",
   "metadata": {},
   "source": [
    "Take the origin to be at [0,0]. The circular shells have radius 1, 2, 3, and 4. Working with your neighbor, count the number particles within the bounds of each shell. You may have to make some judgement calls if a particle sits close to a line.\n",
    "\n",
    "The system has an overall number density of 50 particles in a 10x10 area.\n",
    "\n",
    "*Commented out are example numbers if you need them, for an ideal gas system*"
   ]
  },
  {
   "cell_type": "code",
   "execution_count": null,
   "id": "5e820852",
   "metadata": {},
   "outputs": [],
   "source": [
    "particle_counts = ?\n",
    "#particle_counts = [2, 5, 6, 13]"
   ]
  },
  {
   "cell_type": "markdown",
   "id": "771b6782",
   "metadata": {},
   "source": [
    "Now change the particle counts to a density by calculating the *area* of each shell"
   ]
  },
  {
   "cell_type": "code",
   "execution_count": null,
   "id": "b7fde619",
   "metadata": {},
   "outputs": [],
   "source": [
    "areas = [np.pi*((n+1)**2-n**2) for n in range(1,5)]\n",
    "particle_density = np.asarray(particle_counts)/np.asarray(areas)"
   ]
  },
  {
   "cell_type": "code",
   "execution_count": null,
   "id": "efc341cc",
   "metadata": {},
   "outputs": [],
   "source": [
    "V = ?\n",
    "N = ?\n",
    "gofr = V *1/ N * delta"
   ]
  },
  {
   "cell_type": "code",
   "execution_count": null,
   "id": "ee190720",
   "metadata": {},
   "outputs": [],
   "source": [
    "plt.figure(figsize=(5,5))\n",
    "plt.plot([1,2,3,4],particle_density);\n",
    "\n",
    "plt.title('Manual count of a single-particle RDF')\n",
    "plt.xlabel('Distance')\n",
    "plt.ylabel('Particle density')\n",
    "plt.xlim(0,4);\n",
    "plt.ylim(0,0.5)"
   ]
  },
  {
   "cell_type": "markdown",
   "id": "ae17c988",
   "metadata": {},
   "source": [
    "This system isn't large enough for this RDF to look much like the example, but hopefully you now have an idea of how the algorithm works."
   ]
  },
  {
   "cell_type": "markdown",
   "id": "78d8e504",
   "metadata": {},
   "source": [
    "# Calculating RDF Using a Histogram"
   ]
  },
  {
   "cell_type": "markdown",
   "id": "f5f5cbd5",
   "metadata": {},
   "source": [
    "Now we'll use a histogram to calculate a much more realistic RDF. "
   ]
  },
  {
   "cell_type": "code",
   "execution_count": null,
   "id": "ce8f3d2b",
   "metadata": {},
   "outputs": [],
   "source": [
    "(box, positions) = freud.data.UnitCell([1,1,1,0,0,0],[[0,0,0]]).generate_system(\n",
    "    num_replicas = [20,20,1], sigma_noise = 0.05)"
   ]
  },
  {
   "cell_type": "code",
   "execution_count": null,
   "id": "09258ba0",
   "metadata": {},
   "outputs": [],
   "source": [
    "center = positions[0]"
   ]
  },
  {
   "cell_type": "code",
   "execution_count": null,
   "id": "dfd6237a",
   "metadata": {},
   "outputs": [],
   "source": [
    "fig = plt.figure(figsize=(10,10))\n",
    "markersize = 150\n",
    "\n",
    "plt.scatter(positions[:,0],positions[:,1],s = markersize, c = 'grey',edgecolor = 'k')\n",
    "plt.scatter(center[0],center[1], s = markersize, c = 'red',edgecolor = 'red')\n",
    "\n",
    "for r in range(1,5):\n",
    "    circle = plt.Circle((0, 0), r, facecolor = [0,0,0,0], edgecolor = 'k', linewidth = 2)\n",
    "    plt.gca().add_patch(circle)\n",
    "    \n",
    "plt.xlim(-10,10);\n",
    "plt.ylim(-10,10);\n"
   ]
  },
  {
   "cell_type": "markdown",
   "id": "5f1a6b6e",
   "metadata": {},
   "source": [
    "For now, only calculate one particle (no averaging).\n",
    "\n",
    "How are you going to calculate the density?"
   ]
  },
  {
   "cell_type": "code",
   "execution_count": null,
   "id": "1e3a358b",
   "metadata": {},
   "outputs": [],
   "source": [
    "distances = []\n",
    "\n",
    "for p in positions[1:]:\n",
    "    #calculate the distance to the particle\n",
    "\n",
    "bins = 50\n",
    "histogram, bin_edges = np.histogram(distances, range = (0.0,5.0), bins = bins)"
   ]
  },
  {
   "cell_type": "code",
   "execution_count": null,
   "id": "abdcc234",
   "metadata": {},
   "outputs": [],
   "source": [
    "plt.figure(figsize=(5,5))\n",
    "plt.plot(bin_edges[:-1],histogram)\n",
    "\n",
    "plt.xlabel('Distance')\n",
    "plt.ylabel('Particle Count')\n",
    "plt.xlim(0,5);"
   ]
  },
  {
   "cell_type": "markdown",
   "id": "9a43c019",
   "metadata": {},
   "source": [
    "Change bin_edges to a list of areas to get density, using the same method that you did during the manual count."
   ]
  },
  {
   "cell_type": "code",
   "execution_count": null,
   "id": "9eb8548c",
   "metadata": {},
   "outputs": [],
   "source": [
    "areas = ?\n",
    "delta = histogram/areas"
   ]
  },
  {
   "cell_type": "code",
   "execution_count": null,
   "id": "34095074",
   "metadata": {},
   "outputs": [],
   "source": [
    "V = ?\n",
    "N = ?\n",
    "gofr = V / N * delta"
   ]
  },
  {
   "cell_type": "code",
   "execution_count": null,
   "id": "3a6b6b03",
   "metadata": {},
   "outputs": [],
   "source": [
    "plt.figure(figsize=(5,5))\n",
    "plt.plot(bin_edges[:-1],gofr);\n",
    "\n",
    "plt.title('Programmatic count of a single-particle RDF')\n",
    "plt.xlabel('Distance')\n",
    "plt.ylabel('g(r)')\n",
    "plt.xlim(0,5);\n"
   ]
  },
  {
   "cell_type": "markdown",
   "id": "7734fad7",
   "metadata": {},
   "source": [
    "Again, this system is still not large enough to really see the expected form of an RDF, but hopefully you get the idea."
   ]
  },
  {
   "cell_type": "markdown",
   "id": "26f9935c",
   "metadata": {},
   "source": [
    "# Questions\n",
    "\n",
    "1. Where does it make sense to stop this histogram? At what point do you need to consider boundary conditions?\n",
    "\n",
    "2. How does changing the number of bins affect the calculated RDF?"
   ]
  },
  {
   "cell_type": "markdown",
   "id": "37abe1d7",
   "metadata": {},
   "source": [
    "# Large LJ System"
   ]
  },
  {
   "cell_type": "markdown",
   "id": "fb8bc7af",
   "metadata": {},
   "source": [
    "Now we can load the Lennard-Jones fluids generated in previous simulations for analysis. We're going to use the Freud utility to handle many of the difficult calculations for us, including accounting for periodic boundary conditions and making the math efficient when dealing with thousands of particles instead of dozens.\n",
    "\n",
    "Play here with n_bins and r_max. How does changing n_bins effect your result? Is there an upper limit beyond which the width of your bins is too small?"
   ]
  },
  {
   "cell_type": "code",
   "execution_count": null,
   "id": "e6d94fea",
   "metadata": {},
   "outputs": [],
   "source": [
    "with gsd.hoomd.open('trajectory.gsd','r') as traj:\n",
    "    final_frame = traj[-1]\n",
    "    \n",
    "box = final_frame.configuration.box\n",
    "positions = final_frame.particles.position"
   ]
  },
  {
   "cell_type": "code",
   "execution_count": null,
   "id": "c393cbe3",
   "metadata": {},
   "outputs": [],
   "source": [
    "n_bins = 100\n",
    "r_max = 4.0\n",
    "\n",
    "rdf = freud.density.RDF(bins = n_bins, r_max = r_max)\n",
    "rdf.compute((box, positions))\n",
    "rdf.plot()"
   ]
  },
  {
   "cell_type": "markdown",
   "id": "3f2783c0",
   "metadata": {},
   "source": [
    "In the last section, you and your neighbors simulated fluids at different conditions, but potentially the same *reduced unit* conditions. Compare your results; how does the RDF change? \n",
    "\n",
    "How does the fluid RDF compare to the idealized crystal in the example?"
   ]
  },
  {
   "cell_type": "markdown",
   "id": "04710c54",
   "metadata": {},
   "source": [
    "# Averaging for better statistics"
   ]
  },
  {
   "cell_type": "markdown",
   "id": "bc030bfd",
   "metadata": {},
   "source": [
    "Finally, to be very correct we should also *time*-average the RDF. Keeping in mind that \"traj\" is a list of all frames in the simulation, how do you calculate the average RDF?\n",
    "\n",
    "*Hint: you will need to loop over every frame in the trajectory, saving the RDF at each loop to average later.*\n",
    "\n",
    "*Additional hint: freud.density.RDF.compute() has a \"reset\" property, which you can turn to False.*\n",
    "\n",
    "The function rdf.plot() which we used as a shortcut above is essentially running the following function:\n",
    "\n",
    "plt.plot(rdf.bin_centers, rdf.rdf)"
   ]
  },
  {
   "cell_type": "code",
   "execution_count": null,
   "id": "898f14e8",
   "metadata": {},
   "outputs": [],
   "source": [
    "n_bins = 100\n",
    "r_max = 4.0\n",
    "\n",
    "with gsd.hoomd.open('trajectory.gsd','r') as trajectory:\n",
    "    #loop over all frames:\n",
    "\n",
    "    for frame in trajectory:\n",
    "        #accumulate an average RDF\n"
   ]
  },
  {
   "cell_type": "code",
   "execution_count": null,
   "id": "55402fb7",
   "metadata": {},
   "outputs": [],
   "source": [
    "plt.figure(figsize=(5,5))\n",
    "\n",
    "plt.plot(rdf.bin_centers, rdf.rdf)\n",
    "\n",
    "plt.title('Time-Averaged RDF')\n",
    "plt.xlabel('Distance')\n",
    "plt.ylabel('g(r)')"
   ]
  },
  {
   "cell_type": "markdown",
   "id": "220c6248",
   "metadata": {},
   "source": [
    "How does performing a time average change the RDF?"
   ]
  }
 ],
 "metadata": {
  "kernelspec": {
   "display_name": "Python 3 (ipykernel)",
   "language": "python",
   "name": "python3"
  },
  "language_info": {
   "codemirror_mode": {
    "name": "ipython",
    "version": 3
   },
   "file_extension": ".py",
   "mimetype": "text/x-python",
   "name": "python",
   "nbconvert_exporter": "python",
   "pygments_lexer": "ipython3",
   "version": "3.12.3"
  }
 },
 "nbformat": 4,
 "nbformat_minor": 5
}
